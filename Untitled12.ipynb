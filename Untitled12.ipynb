{
  "nbformat": 4,
  "nbformat_minor": 0,
  "metadata": {
    "colab": {
      "name": "Untitled12.ipynb",
      "provenance": [],
      "collapsed_sections": []
    },
    "kernelspec": {
      "name": "python3",
      "display_name": "Python 3"
    }
  },
  "cells": [
    {
      "cell_type": "markdown",
      "metadata": {
        "id": "GiWg64sfk-j7"
      },
      "source": [
        "Question 1\r\n",
        "\r\n",
        "Count set bits of binary number, given any decimal number covert decimal number into binary then find the number of 1's in binary number\r\n",
        "\r\n",
        "example \r\n",
        "\r\n",
        "input n =10\r\n",
        "\r\n",
        "binary number = 1010\r\n",
        "\r\n",
        "output = 2"
      ]
    },
    {
      "cell_type": "code",
      "metadata": {
        "colab": {
          "base_uri": "https://localhost:8080/"
        },
        "id": "JSJ-bl_Jo0d5",
        "outputId": "73d77ebc-be8c-4973-c9ad-453ffd7eb1a7"
      },
      "source": [
        "x =input()\r\n",
        "num= int(x)\r\n",
        "def countSetBits(num):  \r\n",
        "    \r\n",
        "     # convert given number into binary  \r\n",
        "    \r\n",
        "     binary = bin(num)  \r\n",
        "    \r\n",
        "     # now separate out all 1's from binary string  \r\n",
        "     # we need to skip starting two characters  \r\n",
        "     # of binary string i.e; 0b  \r\n",
        "     setBits = [ones for ones in binary[2:] if ones=='1']  \r\n",
        "         \r\n",
        "     print (len(setBits))  \r\n",
        "    \r\n",
        "# Driver program  \r\n",
        "if __name__ == \"__main__\":  \r\n",
        "    #num = 11\r\n",
        "    countSetBits(num)"
      ],
      "execution_count": null,
      "outputs": [
        {
          "output_type": "stream",
          "text": [
            "8\n",
            "1\n"
          ],
          "name": "stdout"
        }
      ]
    },
    {
      "cell_type": "code",
      "metadata": {
        "colab": {
          "base_uri": "https://localhost:8080/"
        },
        "id": "KjZqOsUiqMQ8",
        "outputId": "4ce367c5-3bbd-4e5c-ab87-3305d17caa80"
      },
      "source": [
        "print (bin(8))"
      ],
      "execution_count": null,
      "outputs": [
        {
          "output_type": "stream",
          "text": [
            "0b1000\n"
          ],
          "name": "stdout"
        }
      ]
    },
    {
      "cell_type": "markdown",
      "metadata": {
        "id": "E0Kw-j17qYHj"
      },
      "source": [
        "Question 2\r\n",
        "\r\n",
        "validate the string is palindrome or not\r\n",
        "if string conatins specail characters remove the special characters then validate the string\r\n",
        "\r\n",
        "example \r\n",
        "\r\n",
        "string 123@321\r\n",
        "\r\n",
        "\r\n",
        "remove special charcaters\r\n",
        "if palindrome \r\n",
        "\r\n",
        "Print YES\r\n",
        "\r\n",
        "else \r\n",
        "\r\n",
        "Print NO\r\n",
        "\r\n"
      ]
    },
    {
      "cell_type": "code",
      "metadata": {
        "id": "F-TxxsdcqPeJ",
        "colab": {
          "base_uri": "https://localhost:8080/"
        },
        "outputId": "b26c16c1-7506-49a8-ef91-5b83c32aa031"
      },
      "source": [
        "import re\r\n",
        "x = input()\r\n",
        "\r\n",
        "s1=\"\".join(c for c in x if c.isalpha())\r\n",
        "\r\n",
        "my_str = s1.casefold()\r\n",
        "rev_str = reversed(my_str)\r\n",
        "\r\n",
        "# check if the string is equal to its reverse\r\n",
        "if list(my_str) == list(rev_str):\r\n",
        "   print(\" YES The string is  palindrome.\")\r\n",
        "else:\r\n",
        "   print(\" NO The string is not a palindrome.\")\r\n"
      ],
      "execution_count": 5,
      "outputs": [
        {
          "output_type": "stream",
          "text": [
            "aa@bb@bb#aa\n",
            " YES The string is  palindrome.\n"
          ],
          "name": "stdout"
        }
      ]
    },
    {
      "cell_type": "markdown",
      "metadata": {
        "id": "EOXV89GaWhC4"
      },
      "source": [
        "Question 3:\r\n",
        "Given an integer list nums, find the contiguous subarray (containing at least one number) which has the largest sum and return its sum.\r\n",
        "Input: nums = [-2,1,-3,4,-1,2,1,-5,4]\r\n",
        "Output: 6\r\n",
        "Explanation: [4,-1,2,1] has the largest sum = 6.\r\n",
        "\r\n"
      ]
    },
    {
      "cell_type": "code",
      "metadata": {
        "colab": {
          "base_uri": "https://localhost:8080/"
        },
        "id": "UKzs-cMrFkUK",
        "outputId": "16b722ef-3704-4e00-aa3e-7a0361d188a0"
      },
      "source": [
        "n = int(input(\"enter size of list :\"))\r\n",
        "lst = [] \r\n",
        "for i in range(0, n): \r\n",
        "    ele = int(input()) \r\n",
        "  \r\n",
        "    lst.append(ele) # adding the element \r\n",
        "      \r\n",
        "print(lst)\r\n",
        "\r\n",
        "\r\n",
        "def maxSubArraySum(a,size):\r\n",
        "     \r\n",
        "    max_so_far = 0\r\n",
        "    max_ending_here = 0\r\n",
        "     \r\n",
        "    for i in range(0, size):\r\n",
        "        max_ending_here = max_ending_here + a[i]\r\n",
        "        if max_ending_here < 0:\r\n",
        "            max_ending_here = 0\r\n",
        "         \r\n",
        "        # Do not compare for all elements. Compare only   \r\n",
        "        # when  max_ending_here > 0\r\n",
        "        elif (max_so_far < max_ending_here):\r\n",
        "            max_so_far = max_ending_here\r\n",
        "             \r\n",
        "    return max_so_far\r\n",
        "print(\"Maximum contiguous sum is\" , maxSubArraySum(lst,len(lst)))"
      ],
      "execution_count": 15,
      "outputs": [
        {
          "output_type": "stream",
          "text": [
            "enter size of list :6\n",
            "-2\n",
            "-3\n",
            "4\n",
            "-1\n",
            "-2\n",
            "1\n",
            "[-2, -3, 4, -1, -2, 1]\n",
            "Maximum contiguous sum is 4\n"
          ],
          "name": "stdout"
        }
      ]
    },
    {
      "cell_type": "code",
      "metadata": {
        "colab": {
          "base_uri": "https://localhost:8080/"
        },
        "id": "zGYAefyRYTOc",
        "outputId": "63b25dbc-01d8-4e1f-9f5e-733c5189ac40"
      },
      "source": [
        ""
      ],
      "execution_count": 12,
      "outputs": [
        {
          "output_type": "execute_result",
          "data": {
            "text/plain": [
              "-5"
            ]
          },
          "metadata": {
            "tags": []
          },
          "execution_count": 12
        }
      ]
    },
    {
      "cell_type": "code",
      "metadata": {
        "id": "ajKgiBeDZLnw"
      },
      "source": [
        ""
      ],
      "execution_count": null,
      "outputs": []
    }
  ]
}